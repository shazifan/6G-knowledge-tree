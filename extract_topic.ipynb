{
 "cells": [
  {
   "cell_type": "code",
   "execution_count": 1,
   "metadata": {
    "ExecuteTime": {
     "end_time": "2022-08-26T08:49:21.761103Z",
     "start_time": "2022-08-26T08:49:15.035291Z"
    }
   },
   "outputs": [],
   "source": [
    "import numpy as np\n",
    "import matplotlib.pyplot as plt\n",
    "import pandas as pd\n",
    "import math\n",
    "import matplotlib.ticker as ticker\n",
    "import json\n",
    "import random\n",
    "from elasticsearch import Elasticsearch\n",
    "import time\n",
    "import collections\n",
    "import pandas as pd\n",
    "import json\n",
    "import re\n",
    "import os"
   ]
  },
  {
   "cell_type": "code",
   "execution_count": 2,
   "metadata": {
    "ExecuteTime": {
     "end_time": "2022-08-26T08:49:21.772125Z",
     "start_time": "2022-08-26T08:49:21.764065Z"
    }
   },
   "outputs": [],
   "source": [
    "def extract_topic(all_list,topic):\n",
    "    for dic in all_list:\n",
    "        topic.append(dic['name'])\n",
    "        if \"children\" in dic.keys() and len(dic['children']) > 0:\n",
    "            topic= extract_topic(dic['children'],topic)\n",
    "        else:\n",
    "            continue\n",
    "    return topic\n",
    "\n",
    "topic=[]\n",
    "with open(\"./myTopicTree.tree.json\",\"r\") as f:\n",
    "    data= f.read()\n",
    "    data = json.loads(data)\n",
    "ex_topic=extract_topic(data,topic)"
   ]
  },
  {
   "cell_type": "code",
   "execution_count": 5,
   "metadata": {
    "ExecuteTime": {
     "end_time": "2022-07-23T09:00:31.479550Z",
     "start_time": "2022-07-23T09:00:31.219643Z"
    }
   },
   "outputs": [],
   "source": [
    "import pandas as pd\n",
    "\n",
    "test=pd.DataFrame({\"topics\":ex_topic})\n",
    "writer=pd.ExcelWriter('./topics_432.xlsx')\n",
    "test.to_excel(writer,'page_1',encoding='utf-8')\n",
    "writer.save()\n",
    "writer.close()"
   ]
  },
  {
   "cell_type": "code",
   "execution_count": 3,
   "metadata": {
    "ExecuteTime": {
     "end_time": "2022-07-30T07:25:36.570329Z",
     "start_time": "2022-07-30T07:25:36.563603Z"
    },
    "scrolled": true
   },
   "outputs": [
    {
     "name": "stdout",
     "output_type": "stream",
     "text": [
      "['6G', 'dynamic spectrum sharing', 'system throughput', 'process monitoring', 'secure transmissions', 'smart TV', 'huge spectral and energy efficiency', 'distributed antenna system (DAS)', 'information technology', 'bandwidth utilization', 'local rendering', 'Internet of Thing(IoT)', 'infrastructure', 'blockchain', 'high requirement of backhaul/fronthaul', 'Internet of Thing(IoT)', 'mobile robot', 'channel dispersion', 'transmission', 'circuit-switching', 'commercialization', 'infrastructure', 'infrastructure', 'jitter', 'cloud rendering', 'base station', 'base station', 'computation-intensive task', 'intelligence level', 'intelligence level', 'deep learning(DL)', 'network resource availability', 'network resource availability', 'massive IoT', 'open area', 'reconfigurable intelligent surface', 'communication system', 'cellular network', 'satellite-terrestrial communication', 'untrusted environments', 'reconfigurable intelligent surface', 'interference modeling', 'co-channel inter-beam interference', 'open area', 'spatial channel model (SCM)', 'spatial channel model (SCM)', 'power spectral density', 'virtualized network function (VNF)', 'access network', 'multi-tier computing network', 'secret key', 'signal-to-noise ratio (SNR)', 'signal-to-noise ratio (SNR)', 'radio spectrum internationality', 'access network', 'low altitude platform (LAP)', 'system throughput', 'distributed antenna system (DAS)', 'access network', 'UAV communication network', 'system throughput', 'massive wireless sensor network', 'extrinsic information transfer (EXIT)', 'peak to average power ratio', 'cloud rendering', 'dynamic satellite constellation topology', 'fiber-optic infrastructures', 'system throughput', 'waveform design', 'air interface', 'analytical intelligence', 'media access control (MAC)', 'challenge', 'decoding algorithm', 'cognitive radio (CR)', 'coded modulation', 'coded modulation', 'high speed', 'amplitude probability density function (PDF)', 'secure communication scenarios', 'information technology', 'human-centric', 'confidential information (AoI)', 'resource layer', 'network configuration', 'human-centric', 'urbanization', 'six-level security architecture', 'human-centric', 'secret key generation', 'non-terrestrial network', 'connectivity', 'high-efficient and flexible channel sounder design', 'connectivity', 'optical', 'low Earth orbit (LEO)', 'high network connectivity', 'mission-critical scenarios', 'data', 'infrastructure', 'information technology', 'information technology', 'device heterogeneity', 'sparse code multiple access (SCMA)', 'indoor communication scenarios', 'highly cohesive', 'application', 'transmitted power', 'industrial Internet', 'unsupervised learning', 'sparse code multiple access (SCMA)', 'sparse code multiple access (SCMA)', 'environment', 'nanoscale IoT', 'network security', 'digital twin (DT)', 'multi user', 'radio spectrum internationality', 'hybrid SDN', 'service evolution', 'channel estimation', 'beam training strategy', 'energy trading', 'statistical channel knowledge', 'phase noise', 'large scale', 'sensing', 'energy trading', 'connectivity', 'full frequency reuse scheme', 'industrial Internet', 'white box attack', 'energy', 'packet-delivery ratio', 'transmit power', 'transmit power', 'mobile communication', 'routing and traffic engineering', 'consensus mechanisms', 'ring signature', 'energy concentration', 'key-distribution channel', 'key-distribution channel', 'global coverage', 'pricing model', 'interference modeling', 'interference modeling', 'stochastic', 'performance', 'performance', 'hybrid SDN', 'hybrid control architecture', 'channel estimation', 'random time-variant physical-layer channel', 'model-based optimization', 'antenna design', 'antenna aperture efficiency', 'human-machine interface', 'reliability', 'reliability', 'boundary effect', 'university campus', 'photo mixer', 'multiuser detection', 'access network', 'network resource availability', 'adaptive learning', 'cybertwin', 'channel estimation', 'receiver (Rx)', 'network self-evolution mechanism', 'multipath fading', 'intelligent reflection surface (IRS)', 'Internet of everything(IoE)', 'provisioning overhead', 'provisioning overhead', 'hardware accelerator', 'Internet of Thing(IoT)', 'slice isolation', 'dynamic', 'satellite communication network', 'wireless communication network', 'cloud computing', 'delay-sensitive', 'satellite-terrestrial communication', 'green', 'small-cell base stations', 'application', 'cognitive service architecture (CSA)', 'dynamic', 'dynamic', 'prediction', 'overall path loss model', 'Internet of Thing(IoT)', 'Internet of Thing(IoT)', 'mobile communication', 'cellular core networks', 'cell-free(CF) architecture', 'Internet access', 'mIoT', 'human-machine interface', 'human-machine interface', 'human-machine interface', 'edge core', 'decision deducing', 'decision deducing', 'peer-to-peer (P2P)', 'optical wireless communication (OWC)', 'degree of freedom (DOF)', 'satellite', 'NFV security', 'high altitude platform (HAP)', 'access management', 'optical wireless communication (OWC)', 'visible light communication(VLC)', 'energy efficiency', 'cloud/fog/edge computing', 'optical wireless communication (OWC)', 'wireless communication network', 'capital expenditure', 'channel hardening', 'challenge', 'space optical (FSO)', 'high implementation complexity', 'capacity', 'unmanned aerial vehicle (UAV)', 'quantum communication', 'spatial cross-correlation function', 'protocol stack', 'access network', 'optical frequency bands', 'service-level agreement (SLA)', 'communication system', 'path loss', 'transmission model', 'communication system', 'IoV', 'mobile communication', 'antenna', 'packet length', 'thz communication', 'mobile communication', 'multiple access', 'performance metric', 'core network', 'phase noise', 'vehicular network', 'service quality', 'multipath diversity', 'vehicular network', 'roadside unit', 'NLOS propagation', 'autonomous', 'spectrum sharing']\n"
     ]
    }
   ],
   "source": [
    "print(ex_topic)"
   ]
  },
  {
   "cell_type": "code",
   "execution_count": 3,
   "metadata": {
    "ExecuteTime": {
     "end_time": "2022-08-26T08:49:23.269142Z",
     "start_time": "2022-08-26T08:49:23.258462Z"
    }
   },
   "outputs": [
    {
     "data": {
      "text/plain": [
       "1453"
      ]
     },
     "execution_count": 3,
     "metadata": {},
     "output_type": "execute_result"
    }
   ],
   "source": [
    "len(ex_topic)"
   ]
  },
  {
   "cell_type": "code",
   "execution_count": null,
   "metadata": {},
   "outputs": [],
   "source": []
  }
 ],
 "metadata": {
  "kernelspec": {
   "display_name": "Python 3",
   "language": "python",
   "name": "python3"
  },
  "language_info": {
   "codemirror_mode": {
    "name": "ipython",
    "version": 3
   },
   "file_extension": ".py",
   "mimetype": "text/x-python",
   "name": "python",
   "nbconvert_exporter": "python",
   "pygments_lexer": "ipython3",
   "version": "3.7.1"
  }
 },
 "nbformat": 4,
 "nbformat_minor": 2
}
